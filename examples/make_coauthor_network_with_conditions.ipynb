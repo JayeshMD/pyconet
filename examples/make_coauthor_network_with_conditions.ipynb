{
 "cells": [
  {
   "cell_type": "code",
   "execution_count": null,
   "metadata": {},
   "outputs": [],
   "source": [
    "%matplotlib widget\n",
    "import sys\n",
    "sys.path.insert(0,'../src/')\n",
    "\n",
    "import pyconet as pcn\n",
    "import matplotlib.pyplot as plt"
   ]
  },
  {
   "cell_type": "code",
   "execution_count": null,
   "metadata": {},
   "outputs": [],
   "source": [
    "plt.rcParams.update({\n",
    "    \"font.family\": \"sans-serif\",\n",
    "    #\"font.sans-serif\": \"Helvetica\",\n",
    "    \"font.sans-serif\": \"Times New Roman\",\n",
    "})"
   ]
  },
  {
   "cell_type": "code",
   "execution_count": null,
   "metadata": {},
   "outputs": [],
   "source": [
    "author_obj = pcn.pyconet(query = \"7004078700\", is_query_name=False)"
   ]
  },
  {
   "cell_type": "code",
   "execution_count": null,
   "metadata": {},
   "outputs": [],
   "source": [
    "authors_to_exclude =   ['Induja, P.', ]\n",
    "authors_to_emphasize = ['Marwan, Norbert', 'Kurths, Jürgen', 'Bedard, Michael J.',  'Lieuwen, Tim C.', 'Boxx, Isaac','Chterev, Ianko', 'Anderson, William E.', 'Chaudhuri, Swetaprovo', 'Polifke, Wolfgang', 'Saha, Abhishek', 'Gejji, Rohan', 'Surovyatkina, Elena', 'Juniper, Matthew P.', 'García-Morales, Vladimir', 'Harvazinski, Matthew E.','Emerson, Benjamin', 'Bauch, Chris T.', 'Rywik, Marcin', 'Blumenthal, Ralf S.',]\n",
    "\n",
    "authors_special = ['Sujith, R. I.']"
   ]
  },
  {
   "cell_type": "code",
   "execution_count": null,
   "metadata": {},
   "outputs": [],
   "source": [
    "fig = plt.figure(figsize=(10,7.5))\n",
    "axs = fig.add_subplot(1,1,1)\n",
    "\n",
    "pcn.plot_network(author_obj, fig=fig, axs=axs, authors_to_emphasize= authors_to_emphasize, \n",
    "                                               authors_special= authors_special, \n",
    "                                               authors_to_exclude= authors_to_exclude)\n",
    "fig.savefig(\"coauthor_network.svg\")"
   ]
  }
 ],
 "metadata": {
  "kernelspec": {
   "display_name": "venv_local",
   "language": "python",
   "name": "python3"
  },
  "language_info": {
   "codemirror_mode": {
    "name": "ipython",
    "version": 3
   },
   "file_extension": ".py",
   "mimetype": "text/x-python",
   "name": "python",
   "nbconvert_exporter": "python",
   "pygments_lexer": "ipython3",
   "version": "3.10.2"
  }
 },
 "nbformat": 4,
 "nbformat_minor": 2
}
